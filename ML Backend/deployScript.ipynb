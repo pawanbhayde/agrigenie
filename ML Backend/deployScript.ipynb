{
  "cells": [
    {
      "cell_type": "markdown",
      "source": [
        "Script to get weather and predict based on real time updates"
      ],
      "metadata": {
        "id": "B_0CWSETMbN9"
      }
    },
    {
      "cell_type": "code",
      "source": [
        "import requests\n",
        "import numpy as np\n",
        "import joblib\n",
        "\n",
        "def get_weather(city):\n",
        "    url = \"https://weather-by-api-ninjas.p.rapidapi.com/v1/weather\"\n",
        "    querystring = {\"city\": city}\n",
        "    headers = {\n",
        "        \"X-RapidAPI-Key\": \"97d6c29a7dmsh666def72f00fe37p15c62djsneeabdd22d13c\",\n",
        "        \"X-RapidAPI-Host\": \"weather-by-api-ninjas.p.rapidapi.com\"\n",
        "    }\n",
        "    try:\n",
        "        response = requests.get(url, headers=headers, params=querystring)\n",
        "        response.raise_for_status()\n",
        "        data = response.json()\n",
        "        temp = data['temp']\n",
        "        hum = data['humidity']\n",
        "    except requests.exceptions.HTTPError as errh:\n",
        "        print(f\"HTTP Error: {errh}\")\n",
        "    except requests.exceptions.ConnectionError as errc:\n",
        "        print(f\"Error Connecting: {errc}\")\n",
        "    except requests.exceptions.Timeout as errt:\n",
        "        print(f\"Timeout Error: {errt}\")\n",
        "    except requests.exceptions.RequestException as err:\n",
        "        print(f\"Request Exception: {err}\")\n",
        "    return temp, hum\n",
        "\n",
        "def predict_crop(n, p, k, temperature, humidity, ph, durationmonths, rainfall, period, model):\n",
        "    input_features = np.array([[n, p, k, temperature, humidity, ph, durationmonths, rainfall, period]])\n",
        "    predicted_crop = model.predict(input_features)\n",
        "    return predicted_crop[0]\n",
        "\n",
        "n = 65\n",
        "p = 10\n",
        "k = 230\n",
        "city = \"Nagpur\"\n",
        "# Get weather data\n",
        "temp, hum = get_weather(city)\n",
        "ph = 5.8\n",
        "durationmonths = 12\n",
        "rainfall = 120\n",
        "period = 1\n",
        "\n",
        "model = joblib.load('/content/CropPredictionModel.joblib')\n",
        "\n",
        "predicted_crop = predict_crop(n, p, k, temp, hum, ph, durationmonths, rainfall, period, model)\n",
        "print(\"The predicted crop for the given factors is {} on the basis of today's temperature {} and humidity {}.\".format(predicted_crop, temp, hum))\n"
      ],
      "metadata": {
        "id": "6R7SU3FqCuCI",
        "colab": {
          "base_uri": "https://localhost:8080/"
        },
        "outputId": "238e7f27-4cad-4b58-d53b-800d418d26ad"
      },
      "execution_count": 12,
      "outputs": [
        {
          "output_type": "stream",
          "name": "stdout",
          "text": [
            "The predicted crop for the given factors is cotton on the basis of today's temperature 25 and humidity 94.\n"
          ]
        }
      ]
    },
    {
      "cell_type": "code",
      "source": [],
      "metadata": {
        "id": "uqlNfVe015Mi"
      },
      "execution_count": null,
      "outputs": []
    }
  ],
  "metadata": {
    "colab": {
      "provenance": []
    },
    "kernelspec": {
      "display_name": "Python 3",
      "name": "python3"
    },
    "language_info": {
      "name": "python"
    }
  },
  "nbformat": 4,
  "nbformat_minor": 0
}