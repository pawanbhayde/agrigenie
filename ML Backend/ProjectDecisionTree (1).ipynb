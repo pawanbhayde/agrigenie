{
  "nbformat": 4,
  "nbformat_minor": 0,
  "metadata": {
    "colab": {
      "provenance": []
    },
    "kernelspec": {
      "name": "python3",
      "display_name": "Python 3"
    },
    "language_info": {
      "name": "python"
    }
  },
  "cells": [
    {
      "cell_type": "code",
      "execution_count": 209,
      "metadata": {
        "id": "w_Rx-AVbXZcT"
      },
      "outputs": [],
      "source": [
        "\n",
        "import numpy as np\n",
        "import pandas as pd\n",
        "import matplotlib.pyplot as plt\n",
        "import seaborn as sns\n"
      ]
    },
    {
      "cell_type": "code",
      "source": [
        "df=pd.read_csv(\"/content/GodFile (1).csv\")\n"
      ],
      "metadata": {
        "id": "GlJH0ligXgtU"
      },
      "execution_count": 210,
      "outputs": []
    },
    {
      "cell_type": "code",
      "source": [
        "df.shape"
      ],
      "metadata": {
        "colab": {
          "base_uri": "https://localhost:8080/",
          "height": 0
        },
        "id": "tEcS5Qt_was5",
        "outputId": "7ea164f8-ffe8-41db-8373-67a626ee1009"
      },
      "execution_count": 211,
      "outputs": [
        {
          "output_type": "execute_result",
          "data": {
            "text/plain": [
              "(1900, 10)"
            ]
          },
          "metadata": {},
          "execution_count": 211
        }
      ]
    },
    {
      "cell_type": "code",
      "source": [
        "df.info()"
      ],
      "metadata": {
        "colab": {
          "base_uri": "https://localhost:8080/",
          "height": 0
        },
        "id": "_1W2LhmsX1uD",
        "outputId": "5e4c09a1-53a0-4053-ddab-101c799d0096"
      },
      "execution_count": 212,
      "outputs": [
        {
          "output_type": "stream",
          "name": "stdout",
          "text": [
            "<class 'pandas.core.frame.DataFrame'>\n",
            "RangeIndex: 1900 entries, 0 to 1899\n",
            "Data columns (total 10 columns):\n",
            " #   Column          Non-Null Count  Dtype  \n",
            "---  ------          --------------  -----  \n",
            " 0   N               1900 non-null   float64\n",
            " 1   P               1900 non-null   float64\n",
            " 2   K               1900 non-null   float64\n",
            " 3   temperature     1900 non-null   float64\n",
            " 4   humidity        1900 non-null   float64\n",
            " 5   ph              1900 non-null   float64\n",
            " 6   durationmonths  1900 non-null   float64\n",
            " 7   rainfall        1900 non-null   float64\n",
            " 8   period          1900 non-null   object \n",
            " 9   label           1900 non-null   object \n",
            "dtypes: float64(8), object(2)\n",
            "memory usage: 148.6+ KB\n"
          ]
        }
      ]
    },
    {
      "cell_type": "code",
      "source": [
        "from sklearn.preprocessing import OrdinalEncoder\n",
        "\n",
        "ordinal_columns = ['period']\n",
        "\n",
        "# Create the OrdinalEncoder object\n",
        "ordinal_encoder = OrdinalEncoder()\n",
        "\n",
        "# Perform ordinal encoding on the specified columns\n",
        "df[ordinal_columns] = ordinal_encoder.fit_transform(df[ordinal_columns])\n"
      ],
      "metadata": {
        "id": "A5hkVyPnBYZ9"
      },
      "execution_count": 213,
      "outputs": []
    },
    {
      "cell_type": "code",
      "source": [
        "from sklearn.preprocessing import StandardScaler\n",
        "scaler = StandardScaler()\n",
        "df[['N','P','K','temperature','humidity','ph','durationmonths','rainfall']] = scaler.fit_transform(df[['N','P','K','temperature','humidity','ph','durationmonths','rainfall']])\n"
      ],
      "metadata": {
        "id": "i7MRjbnRZpUe"
      },
      "execution_count": 214,
      "outputs": []
    },
    {
      "cell_type": "code",
      "source": [
        "df.columns"
      ],
      "metadata": {
        "colab": {
          "base_uri": "https://localhost:8080/",
          "height": 0
        },
        "id": "DqRYeXkeCjPg",
        "outputId": "53c90738-108a-466d-93d6-0656c684ef50"
      },
      "execution_count": 215,
      "outputs": [
        {
          "output_type": "execute_result",
          "data": {
            "text/plain": [
              "Index(['N', 'P', 'K', 'temperature', 'humidity', 'ph', 'durationmonths',\n",
              "       'rainfall', 'period', 'label'],\n",
              "      dtype='object')"
            ]
          },
          "metadata": {},
          "execution_count": 215
        }
      ]
    },
    {
      "cell_type": "code",
      "source": [
        "X=df.iloc[:,[0,1,2,3,4,5,6,7,8]].values\n",
        "y=df.iloc[:,9].values"
      ],
      "metadata": {
        "id": "Aq5iOIUfX8lw"
      },
      "execution_count": 216,
      "outputs": []
    },
    {
      "cell_type": "code",
      "source": [
        "from sklearn.model_selection import train_test_split\n",
        "x_train,x_test,y_train,y_test = train_test_split(X,y, test_size=0.2,random_state=22)"
      ],
      "metadata": {
        "id": "bl6HFbB4ZlA7"
      },
      "execution_count": 217,
      "outputs": []
    },
    {
      "cell_type": "code",
      "source": [
        "x_test.shape "
      ],
      "metadata": {
        "colab": {
          "base_uri": "https://localhost:8080/",
          "height": 0
        },
        "id": "EPqICEN9-DB2",
        "outputId": "da31392c-d2a8-456f-c05d-6dc20ac4cd54"
      },
      "execution_count": 218,
      "outputs": [
        {
          "output_type": "execute_result",
          "data": {
            "text/plain": [
              "(380, 9)"
            ]
          },
          "metadata": {},
          "execution_count": 218
        }
      ]
    },
    {
      "cell_type": "code",
      "source": [
        "x_train.shape"
      ],
      "metadata": {
        "colab": {
          "base_uri": "https://localhost:8080/",
          "height": 0
        },
        "id": "K9IJWCKlCDUB",
        "outputId": "286208a1-d4d1-4b04-bab6-1887620d756f"
      },
      "execution_count": 219,
      "outputs": [
        {
          "output_type": "execute_result",
          "data": {
            "text/plain": [
              "(1520, 9)"
            ]
          },
          "metadata": {},
          "execution_count": 219
        }
      ]
    },
    {
      "cell_type": "markdown",
      "source": [
        "The x_train data you provided is a sparse matrix with a shape of (1520, 34) and 15200 stored elements. The sparse matrix format is commonly used when dealing with large datasets that have a lot of zero values to save memory and improve efficiency.\n",
        "\n",
        "To use this sparse matrix as input for the DecisionTreeClassifier model, you need to convert it into a dense matrix. Here's an example of how to convert the sparse matrix to a dense matrix and then train the DecisionTreeClassifier model:\n",
        "\n"
      ],
      "metadata": {
        "id": "50_UJogg6yb3"
      }
    },
    {
      "cell_type": "code",
      "source": [
        "from sklearn.tree import DecisionTreeClassifier\n",
        "regressor = DecisionTreeClassifier()\n",
        "regressor.fit(x_train,y_train)\n"
      ],
      "metadata": {
        "colab": {
          "base_uri": "https://localhost:8080/",
          "height": 75
        },
        "id": "7JIZK9CJolgC",
        "outputId": "f6635331-12b7-4e89-d79b-52372dced092"
      },
      "execution_count": 220,
      "outputs": [
        {
          "output_type": "execute_result",
          "data": {
            "text/plain": [
              "DecisionTreeClassifier()"
            ],
            "text/html": [
              "<style>#sk-container-id-11 {color: black;background-color: white;}#sk-container-id-11 pre{padding: 0;}#sk-container-id-11 div.sk-toggleable {background-color: white;}#sk-container-id-11 label.sk-toggleable__label {cursor: pointer;display: block;width: 100%;margin-bottom: 0;padding: 0.3em;box-sizing: border-box;text-align: center;}#sk-container-id-11 label.sk-toggleable__label-arrow:before {content: \"▸\";float: left;margin-right: 0.25em;color: #696969;}#sk-container-id-11 label.sk-toggleable__label-arrow:hover:before {color: black;}#sk-container-id-11 div.sk-estimator:hover label.sk-toggleable__label-arrow:before {color: black;}#sk-container-id-11 div.sk-toggleable__content {max-height: 0;max-width: 0;overflow: hidden;text-align: left;background-color: #f0f8ff;}#sk-container-id-11 div.sk-toggleable__content pre {margin: 0.2em;color: black;border-radius: 0.25em;background-color: #f0f8ff;}#sk-container-id-11 input.sk-toggleable__control:checked~div.sk-toggleable__content {max-height: 200px;max-width: 100%;overflow: auto;}#sk-container-id-11 input.sk-toggleable__control:checked~label.sk-toggleable__label-arrow:before {content: \"▾\";}#sk-container-id-11 div.sk-estimator input.sk-toggleable__control:checked~label.sk-toggleable__label {background-color: #d4ebff;}#sk-container-id-11 div.sk-label input.sk-toggleable__control:checked~label.sk-toggleable__label {background-color: #d4ebff;}#sk-container-id-11 input.sk-hidden--visually {border: 0;clip: rect(1px 1px 1px 1px);clip: rect(1px, 1px, 1px, 1px);height: 1px;margin: -1px;overflow: hidden;padding: 0;position: absolute;width: 1px;}#sk-container-id-11 div.sk-estimator {font-family: monospace;background-color: #f0f8ff;border: 1px dotted black;border-radius: 0.25em;box-sizing: border-box;margin-bottom: 0.5em;}#sk-container-id-11 div.sk-estimator:hover {background-color: #d4ebff;}#sk-container-id-11 div.sk-parallel-item::after {content: \"\";width: 100%;border-bottom: 1px solid gray;flex-grow: 1;}#sk-container-id-11 div.sk-label:hover label.sk-toggleable__label {background-color: #d4ebff;}#sk-container-id-11 div.sk-serial::before {content: \"\";position: absolute;border-left: 1px solid gray;box-sizing: border-box;top: 0;bottom: 0;left: 50%;z-index: 0;}#sk-container-id-11 div.sk-serial {display: flex;flex-direction: column;align-items: center;background-color: white;padding-right: 0.2em;padding-left: 0.2em;position: relative;}#sk-container-id-11 div.sk-item {position: relative;z-index: 1;}#sk-container-id-11 div.sk-parallel {display: flex;align-items: stretch;justify-content: center;background-color: white;position: relative;}#sk-container-id-11 div.sk-item::before, #sk-container-id-11 div.sk-parallel-item::before {content: \"\";position: absolute;border-left: 1px solid gray;box-sizing: border-box;top: 0;bottom: 0;left: 50%;z-index: -1;}#sk-container-id-11 div.sk-parallel-item {display: flex;flex-direction: column;z-index: 1;position: relative;background-color: white;}#sk-container-id-11 div.sk-parallel-item:first-child::after {align-self: flex-end;width: 50%;}#sk-container-id-11 div.sk-parallel-item:last-child::after {align-self: flex-start;width: 50%;}#sk-container-id-11 div.sk-parallel-item:only-child::after {width: 0;}#sk-container-id-11 div.sk-dashed-wrapped {border: 1px dashed gray;margin: 0 0.4em 0.5em 0.4em;box-sizing: border-box;padding-bottom: 0.4em;background-color: white;}#sk-container-id-11 div.sk-label label {font-family: monospace;font-weight: bold;display: inline-block;line-height: 1.2em;}#sk-container-id-11 div.sk-label-container {text-align: center;}#sk-container-id-11 div.sk-container {/* jupyter's `normalize.less` sets `[hidden] { display: none; }` but bootstrap.min.css set `[hidden] { display: none !important; }` so we also need the `!important` here to be able to override the default hidden behavior on the sphinx rendered scikit-learn.org. See: https://github.com/scikit-learn/scikit-learn/issues/21755 */display: inline-block !important;position: relative;}#sk-container-id-11 div.sk-text-repr-fallback {display: none;}</style><div id=\"sk-container-id-11\" class=\"sk-top-container\"><div class=\"sk-text-repr-fallback\"><pre>DecisionTreeClassifier()</pre><b>In a Jupyter environment, please rerun this cell to show the HTML representation or trust the notebook. <br />On GitHub, the HTML representation is unable to render, please try loading this page with nbviewer.org.</b></div><div class=\"sk-container\" hidden><div class=\"sk-item\"><div class=\"sk-estimator sk-toggleable\"><input class=\"sk-toggleable__control sk-hidden--visually\" id=\"sk-estimator-id-11\" type=\"checkbox\" checked><label for=\"sk-estimator-id-11\" class=\"sk-toggleable__label sk-toggleable__label-arrow\">DecisionTreeClassifier</label><div class=\"sk-toggleable__content\"><pre>DecisionTreeClassifier()</pre></div></div></div></div></div>"
            ]
          },
          "metadata": {},
          "execution_count": 220
        }
      ]
    },
    {
      "cell_type": "code",
      "source": [
        "\n",
        "y_pred = regressor.predict(x_test)\n"
      ],
      "metadata": {
        "id": "EjnNDy7Nn2JV"
      },
      "execution_count": 221,
      "outputs": []
    },
    {
      "cell_type": "code",
      "source": [
        "y_pred"
      ],
      "metadata": {
        "colab": {
          "base_uri": "https://localhost:8080/",
          "height": 0
        },
        "id": "-W4-9B6QqWNU",
        "outputId": "703f9de4-cef4-4967-f758-cbbb5ef0e18b"
      },
      "execution_count": 222,
      "outputs": [
        {
          "output_type": "execute_result",
          "data": {
            "text/plain": [
              "array(['blackgram', 'mango', 'cotton', 'pigeonpeas', 'coconut', 'grapes',\n",
              "       'chickpea', 'chickpea', 'chickpea', 'banana', 'mothbeans',\n",
              "       'muskmelon', 'coconut', 'pomegranate', 'banana', 'muskmelon',\n",
              "       'apple', 'blackgram', 'coffee', 'rice', 'lentil', 'lentil',\n",
              "       'muskmelon', 'orange', 'cotton', 'pomegranate', 'mango',\n",
              "       'muskmelon', 'chickpea', 'mango', 'grapes', 'jute', 'cotton',\n",
              "       'grapes', 'pigeonpeas', 'jute', 'mango', 'blackgram', 'mothbeans',\n",
              "       'papaya', 'pomegranate', 'maize', 'orange', 'lentil', 'orange',\n",
              "       'banana', 'maize', 'banana', 'cotton', 'blackgram', 'orange',\n",
              "       'grapes', 'cotton', 'pigeonpeas', 'muskmelon', 'pigeonpeas',\n",
              "       'coconut', 'apple', 'muskmelon', 'pigeonpeas', 'apple', 'grapes',\n",
              "       'papaya', 'banana', 'lentil', 'pigeonpeas', 'pigeonpeas', 'rice',\n",
              "       'mothbeans', 'apple', 'maize', 'papaya', 'lentil', 'coconut',\n",
              "       'rice', 'pomegranate', 'maize', 'orange', 'maize', 'pigeonpeas',\n",
              "       'coconut', 'pomegranate', 'mango', 'grapes', 'mango',\n",
              "       'pomegranate', 'muskmelon', 'banana', 'coffee', 'maize',\n",
              "       'pomegranate', 'coffee', 'lentil', 'lentil', 'coffee',\n",
              "       'pomegranate', 'cotton', 'muskmelon', 'mothbeans', 'coconut',\n",
              "       'pigeonpeas', 'mango', 'coconut', 'rice', 'cotton', 'banana',\n",
              "       'muskmelon', 'grapes', 'blackgram', 'banana', 'chickpea', 'mango',\n",
              "       'grapes', 'chickpea', 'blackgram', 'maize', 'apple', 'cotton',\n",
              "       'chickpea', 'lentil', 'grapes', 'muskmelon', 'coconut', 'chickpea',\n",
              "       'banana', 'lentil', 'orange', 'apple', 'cotton', 'orange',\n",
              "       'banana', 'lentil', 'mango', 'mango', 'mothbeans', 'maize',\n",
              "       'maize', 'banana', 'mothbeans', 'papaya', 'apple', 'jute',\n",
              "       'orange', 'mothbeans', 'maize', 'grapes', 'pomegranate', 'rice',\n",
              "       'pigeonpeas', 'grapes', 'rice', 'blackgram', 'mothbeans',\n",
              "       'chickpea', 'lentil', 'jute', 'lentil', 'jute', 'mango', 'mango',\n",
              "       'blackgram', 'pigeonpeas', 'jute', 'papaya', 'maize', 'rice',\n",
              "       'jute', 'grapes', 'orange', 'lentil', 'coffee', 'blackgram',\n",
              "       'papaya', 'rice', 'papaya', 'rice', 'orange', 'apple', 'mothbeans',\n",
              "       'orange', 'cotton', 'orange', 'cotton', 'pigeonpeas', 'mothbeans',\n",
              "       'muskmelon', 'blackgram', 'banana', 'mothbeans', 'jute', 'papaya',\n",
              "       'pigeonpeas', 'blackgram', 'pigeonpeas', 'apple', 'chickpea',\n",
              "       'coconut', 'jute', 'pomegranate', 'pigeonpeas', 'orange',\n",
              "       'blackgram', 'apple', 'grapes', 'jute', 'papaya', 'apple', 'maize',\n",
              "       'maize', 'muskmelon', 'rice', 'pomegranate', 'chickpea', 'mango',\n",
              "       'rice', 'grapes', 'pigeonpeas', 'pigeonpeas', 'cotton', 'jute',\n",
              "       'chickpea', 'chickpea', 'muskmelon', 'apple', 'mango', 'maize',\n",
              "       'coffee', 'mango', 'jute', 'orange', 'papaya', 'maize',\n",
              "       'pomegranate', 'jute', 'orange', 'rice', 'rice', 'banana',\n",
              "       'coconut', 'chickpea', 'apple', 'pigeonpeas', 'mango', 'chickpea',\n",
              "       'lentil', 'apple', 'orange', 'pigeonpeas', 'mango', 'coconut',\n",
              "       'mango', 'pomegranate', 'coconut', 'cotton', 'banana', 'mango',\n",
              "       'papaya', 'coconut', 'apple', 'coconut', 'coconut', 'banana',\n",
              "       'cotton', 'jute', 'blackgram', 'pomegranate', 'lentil',\n",
              "       'muskmelon', 'pigeonpeas', 'coffee', 'muskmelon', 'chickpea',\n",
              "       'muskmelon', 'cotton', 'mango', 'banana', 'banana', 'grapes',\n",
              "       'chickpea', 'cotton', 'grapes', 'blackgram', 'maize', 'pigeonpeas',\n",
              "       'apple', 'pigeonpeas', 'coconut', 'apple', 'papaya', 'grapes',\n",
              "       'papaya', 'blackgram', 'mango', 'jute', 'jute', 'rice', 'jute',\n",
              "       'grapes', 'maize', 'papaya', 'mothbeans', 'pomegranate', 'coffee',\n",
              "       'orange', 'blackgram', 'coconut', 'muskmelon', 'lentil', 'apple',\n",
              "       'apple', 'pigeonpeas', 'papaya', 'lentil', 'muskmelon',\n",
              "       'mothbeans', 'cotton', 'banana', 'grapes', 'orange', 'banana',\n",
              "       'pigeonpeas', 'blackgram', 'papaya', 'cotton', 'muskmelon', 'rice',\n",
              "       'lentil', 'coconut', 'chickpea', 'jute', 'orange', 'muskmelon',\n",
              "       'rice', 'orange', 'pomegranate', 'grapes', 'apple', 'grapes',\n",
              "       'muskmelon', 'pigeonpeas', 'chickpea', 'coffee', 'blackgram',\n",
              "       'coffee', 'coconut', 'orange', 'coffee', 'pigeonpeas', 'blackgram',\n",
              "       'coconut', 'pigeonpeas', 'muskmelon', 'cotton', 'apple',\n",
              "       'muskmelon', 'rice', 'apple', 'banana', 'mango', 'orange',\n",
              "       'banana', 'apple', 'grapes', 'pomegranate', 'pomegranate',\n",
              "       'cotton', 'papaya', 'rice', 'muskmelon', 'apple', 'jute', 'grapes',\n",
              "       'lentil', 'pigeonpeas', 'lentil', 'banana', 'maize', 'maize',\n",
              "       'rice', 'grapes'], dtype=object)"
            ]
          },
          "metadata": {},
          "execution_count": 222
        }
      ]
    },
    {
      "cell_type": "code",
      "source": [
        "from sklearn.metrics import accuracy_score\n",
        "print(f\"Acuu: {accuracy_score(y_test,y_pred)}\")"
      ],
      "metadata": {
        "colab": {
          "base_uri": "https://localhost:8080/",
          "height": 0
        },
        "id": "SXmBhLpgqXOW",
        "outputId": "7ef14fa6-d813-4340-e0b5-0ade0293cded"
      },
      "execution_count": 225,
      "outputs": [
        {
          "output_type": "stream",
          "name": "stdout",
          "text": [
            "Acuu: 1.0\n"
          ]
        }
      ]
    },
    {
      "cell_type": "code",
      "source": [
        "def predict_new_data(N,P,K,temperature,humidty,ph,rainfall):\n",
        "    input = np.array([[N,P,K,temperature,humidty,ph,durationmonths,rainfall,period]])\n",
        "    predictedCrop = regressor.predict(input)\n",
        "    return predictedCrop[0]\n",
        "\n",
        "N = 110\n",
        "P=40\n",
        "K=10\n",
        "temperature = 30 #temp[0]\n",
        "humidty= 80. #hum[0]\n",
        "ph=6\n",
        "durationmonths = 6\n",
        "rainfall=110\n",
        "period=\"0\"\n",
        "\n",
        "predictedCrop = predict_new_data(N,P,K,temperature,humidty,ph,rainfall)\n",
        "print(\"The Crop You should take in given factors is {} on the basis of temperature{} and humidity{}\".format(predictedCrop , temperature , humidty))\n",
        "\n"
      ],
      "metadata": {
        "id": "kE9Dpw0DiElo"
      },
      "execution_count": 224,
      "outputs": []
    }
  ]
}