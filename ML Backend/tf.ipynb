{
  "nbformat": 4,
  "nbformat_minor": 0,
  "metadata": {
    "colab": {
      "provenance": []
    },
    "kernelspec": {
      "name": "python3",
      "display_name": "Python 3"
    },
    "language_info": {
      "name": "python"
    }
  },
  "cells": [
    {
      "cell_type": "code",
      "execution_count": null,
      "metadata": {
        "colab": {
          "base_uri": "https://localhost:8080/"
        },
        "id": "_6eIOUGoYWg7",
        "outputId": "968930b6-a020-475e-f04b-51d35c30f457"
      },
      "outputs": [
        {
          "output_type": "stream",
          "name": "stdout",
          "text": [
            "Epoch 1/10\n",
            "48/48 [==============================] - 3s 11ms/step - loss: 2.7208 - accuracy: 0.3211 - val_loss: 2.3352 - val_accuracy: 0.5500\n",
            "Epoch 2/10\n",
            "48/48 [==============================] - 0s 5ms/step - loss: 1.9694 - accuracy: 0.6750 - val_loss: 1.5010 - val_accuracy: 0.7579\n",
            "Epoch 3/10\n",
            "48/48 [==============================] - 0s 4ms/step - loss: 1.1492 - accuracy: 0.8559 - val_loss: 0.8019 - val_accuracy: 0.8579\n",
            "Epoch 4/10\n",
            "48/48 [==============================] - 0s 4ms/step - loss: 0.5965 - accuracy: 0.9349 - val_loss: 0.4290 - val_accuracy: 0.9737\n",
            "Epoch 5/10\n",
            "48/48 [==============================] - 0s 5ms/step - loss: 0.3461 - accuracy: 0.9730 - val_loss: 0.2735 - val_accuracy: 0.9763\n",
            "Epoch 6/10\n",
            "48/48 [==============================] - 0s 3ms/step - loss: 0.2274 - accuracy: 0.9855 - val_loss: 0.1901 - val_accuracy: 0.9763\n",
            "Epoch 7/10\n",
            "48/48 [==============================] - 0s 3ms/step - loss: 0.1623 - accuracy: 0.9882 - val_loss: 0.1432 - val_accuracy: 0.9816\n",
            "Epoch 8/10\n",
            "48/48 [==============================] - 0s 4ms/step - loss: 0.1231 - accuracy: 0.9941 - val_loss: 0.1135 - val_accuracy: 0.9816\n",
            "Epoch 9/10\n",
            "48/48 [==============================] - 0s 5ms/step - loss: 0.0956 - accuracy: 0.9954 - val_loss: 0.0921 - val_accuracy: 0.9895\n",
            "Epoch 10/10\n",
            "48/48 [==============================] - 0s 4ms/step - loss: 0.0774 - accuracy: 0.9954 - val_loss: 0.0721 - val_accuracy: 0.9974\n"
          ]
        },
        {
          "output_type": "stream",
          "name": "stderr",
          "text": [
            "WARNING:absl:Found untraced functions such as _update_step_xla while saving (showing 1 of 1). These functions will not be directly callable after loading.\n"
          ]
        }
      ],
      "source": [
        "import tensorflow as tf\n",
        "from sklearn.tree import DecisionTreeClassifier\n",
        "from sklearn.model_selection import train_test_split\n",
        "from sklearn.preprocessing import StandardScaler, OrdinalEncoder, OneHotEncoder\n",
        "import pandas as pd\n",
        "import numpy as np\n",
        "\n",
        "# Load the dataset (or use your own dataset)\n",
        "df = pd.read_csv(\"/content/GodFile (1).csv\")\n",
        "\n",
        "# Split the data into features (X) and target (y)\n",
        "X = df.iloc[:, :-1].values\n",
        "y = df.iloc[:, -1].values\n",
        "\n",
        "# Perform ordinal encoding on the specified columns\n",
        "ordinal_columns = ['period']\n",
        "ordinal_indices = [df.columns.get_loc(column) for column in ordinal_columns]\n",
        "ordinal_encoder = OrdinalEncoder()\n",
        "X[:, ordinal_indices] = ordinal_encoder.fit_transform(X[:, ordinal_indices])\n",
        "\n",
        "# Standardize the features\n",
        "scaler = StandardScaler()\n",
        "X = scaler.fit_transform(X)\n",
        "\n",
        "# One-hot encode the target variable\n",
        "onehot_encoder = OneHotEncoder()\n",
        "y = onehot_encoder.fit_transform(y.reshape(-1, 1)).toarray()\n",
        "\n",
        "# Split the data into train and test sets\n",
        "x_train, x_test, y_train, y_test = train_test_split(X, y, test_size=0.2, random_state=22)\n",
        "\n",
        "# Define the TensorFlow model\n",
        "model = tf.keras.Sequential([\n",
        "    tf.keras.layers.Dense(64, activation='relu', input_shape=(x_train.shape[1],)),\n",
        "    tf.keras.layers.Dense(32, activation='relu'),\n",
        "    tf.keras.layers.Dense(y_train.shape[1], activation='softmax')\n",
        "])\n",
        "\n",
        "# Compile the model\n",
        "model.compile(loss='categorical_crossentropy', optimizer='adam', metrics=['accuracy'])\n",
        "\n",
        "# Train the model\n",
        "model.fit(x_train, y_train, epochs=10, batch_size=32, validation_data=(x_test, y_test))\n",
        "\n",
        "# Convert the TensorFlow model to TensorFlow Lite\n",
        "converter = tf.lite.TFLiteConverter.from_keras_model(model)\n",
        "tflite_model = converter.convert()\n",
        "\n",
        "# Save the TFLite model to a file\n",
        "with open('model.tflite', 'wb') as f:\n",
        "    f.write(tflite_model)\n"
      ]
    },
    {
      "cell_type": "code",
      "source": [],
      "metadata": {
        "id": "Z1TM8DsuY5nZ"
      },
      "execution_count": null,
      "outputs": []
    }
  ]
}